{
 "metadata": {
  "language_info": {
   "codemirror_mode": {
    "name": "ipython",
    "version": 3
   },
   "file_extension": ".py",
   "mimetype": "text/x-python",
   "name": "python",
   "nbconvert_exporter": "python",
   "pygments_lexer": "ipython3",
   "version": "3.8.5-final"
  },
  "orig_nbformat": 2,
  "kernelspec": {
   "name": "python3",
   "display_name": "Python 3.8.5 64-bit ('base': conda)",
   "metadata": {
    "interpreter": {
     "hash": "dca0ade3e726a953b501b15e8e990130d2b7799f14cfd9f4271676035ebe5511"
    }
   }
  }
 },
 "nbformat": 4,
 "nbformat_minor": 2,
 "cells": [
  {
   "cell_type": "code",
   "execution_count": 3,
   "metadata": {},
   "outputs": [],
   "source": [
    "import numpy as np\n",
    "from tqdm.notebook import tqdm\n",
    "import torch\n",
    "import torch.nn as nn\n",
    "import torch.optim as optim\n",
    "from torch.utils.data import Dataset, DataLoader\n",
    "from sklearn.preprocessing import MinMaxScaler    \n",
    "from sklearn.model_selection import train_test_split\n",
    "from sklearn.metrics import mean_squared_error, r2_score\n",
    "from numpy import random\n",
    "import time"
   ]
  },
  {
   "cell_type": "code",
   "execution_count": 4,
   "metadata": {},
   "outputs": [],
   "source": [
    "def func(x):\n",
    "    '''\n",
    "    Create the Griewank function\n",
    "    '''\n",
    "    return 1 + (1/4000)*sum((x+7)**2) - np.prod(np.cos((x+7) / range(1, len(x)+1, 1)))"
   ]
  },
  {
   "cell_type": "code",
   "execution_count": 16,
   "metadata": {},
   "outputs": [],
   "source": [
    "\n",
    "def simulate_data(func):\n",
    "    observations = 1000\n",
    "    features = 10\n",
    "\n",
    "    X = 20*(random.rand(observations, features).astype(np.float32)-1/2)\n",
    "    y = np.zeros(observations).astype(np.float32)\n",
    "    for i in range(observations):\n",
    "        y[i] = func(X[i,:])\n",
    "    return X, y\n"
   ]
  },
  {
   "cell_type": "code",
   "execution_count": 19,
   "metadata": {},
   "outputs": [],
   "source": [
    "class torch_set_dataset(Dataset):\n",
    "    \n",
    "    def __init__(self, X_data, y_data):\n",
    "        self.X_data = X_data\n",
    "        self.y_data = y_data\n",
    "        \n",
    "    def __getitem__(self, index):\n",
    "        return self.X_data[index], self.y_data[index]\n",
    "        \n",
    "    def __len__ (self):\n",
    "        return len(self.X_data)\n",
    "        "
   ]
  },
  {
   "cell_type": "code",
   "execution_count": null,
   "metadata": {},
   "outputs": [],
   "source": []
  },
  {
   "cell_type": "code",
   "execution_count": null,
   "metadata": {},
   "outputs": [],
   "source": []
  },
  {
   "cell_type": "code",
   "execution_count": 21,
   "metadata": {},
   "outputs": [],
   "source": [
    "X, y = simulate_data(func)\n",
    "# Train - Test\n",
    "X_trainval, X_test, y_trainval, y_test = train_test_split(X, y, test_size=0.2, random_state=None)\n",
    "# Split train into train-val\n",
    "X_train, X_val, y_train, y_val = train_test_split(X_trainval, y_trainval, test_size=0.1, random_state=None) \n",
    "\n",
    "\n",
    "scaler = MinMaxScaler() #todo move scaling to another function\n",
    "X_train = scaler.fit_transform(X_train)\n",
    "X_val = scaler.transform(X_val)\n",
    "X_test = scaler.transform(X_test)\n",
    "X_train, y_train = np.array(X_train), np.array(y_train)\n",
    "X_val, y_val = np.array(X_val), np.array(y_val)\n",
    "X_test, y_test = np.array(X_test), np.array(y_test)\n",
    "y_train, y_test, y_val = y_train.astype(float),            y_test.astype(float), y_val.astype(float)"
   ]
  },
  {
   "cell_type": "code",
   "execution_count": 22,
   "metadata": {},
   "outputs": [],
   "source": [
    "train_dataset = torch_set_dataset(torch.from_numpy(X_train).float(), torch.from_numpy(y_train).float())\n",
    "val_dataset = torch_set_dataset(torch.from_numpy(X_val).float(), torch.from_numpy(y_val).float())\n",
    "test_dataset = torch_set_dataset(torch.from_numpy(X_test).float(), torch.from_numpy(y_test).float())\n"
   ]
  },
  {
   "cell_type": "code",
   "execution_count": 29,
   "metadata": {},
   "outputs": [],
   "source": [
    "EPOCHS = 5\n",
    "BATCH_SIZE = int(1e2)\n",
    "LEARNING_RATE = 0.0001\n",
    "NUM_FEATURES =X_train.shape[1]\n",
    "N_NEURONS=int(2000)\n",
    "\n",
    "\n",
    "train_loader = DataLoader(dataset=train_dataset, batch_size=BATCH_SIZE, shuffle=False)\n",
    "val_loader = DataLoader(dataset=val_dataset, batch_size=BATCH_SIZE)\n",
    "test_loader = DataLoader(dataset=test_dataset, batch_size=BATCH_SIZE)\n"
   ]
  },
  {
   "cell_type": "code",
   "execution_count": 30,
   "metadata": {},
   "outputs": [],
   "source": [
    "class MultipleRegression(nn.Module):\n",
    "    def __init__(self, num_features):\n",
    "        super(MultipleRegression, self).__init__()\n",
    "        self.layer_1 = nn.Linear(num_features, N_NEURONS)\n",
    "        self.layer_2 = nn.Linear(N_NEURONS, N_NEURONS)\n",
    "        self.layer_3 = nn.Linear(N_NEURONS, N_NEURONS)\n",
    "        self.layer_4 = nn.Linear(N_NEURONS, N_NEURONS)\n",
    "        self.layer_5 = nn.Linear(N_NEURONS, N_NEURONS)\n",
    "        self.layer_out = nn.Linear(N_NEURONS, 1)\n",
    "        self.relu = nn.ReLU()\n",
    "    def forward(self, inputs):\n",
    "            x = self.relu(self.layer_1(inputs))\n",
    "            x = self.relu(self.layer_2(x))\n",
    "            x = self.relu(self.layer_3(x))\n",
    "            x = self.relu(self.layer_4(x))\n",
    "            x = self.relu(self.layer_5(x))\n",
    "            x = self.layer_out(x)\n",
    "            return (x)\n",
    "    def predict(self, test_inputs):\n",
    "            x = self.relu(self.layer_1(test_inputs))\n",
    "            x = self.relu(self.layer_2(x))\n",
    "            x = self.relu(self.layer_3(x))\n",
    "            x = self.relu(self.layer_4(x))\n",
    "            x = self.relu(self.layer_5(x))\n",
    "            x = self.layer_out(x)\n",
    "            return (x)"
   ]
  },
  {
   "cell_type": "code",
   "execution_count": 31,
   "metadata": {},
   "outputs": [],
   "source": [
    "model = MultipleRegression(NUM_FEATURES)\n",
    "device = torch.device(\"cuda\" if torch.cuda.is_available() else \"cpu\")\n",
    "\n",
    "if torch.cuda.device_count() > 1:\n",
    "  print(\"Let's use\", torch.cuda.device_count(), \"GPUs!\")\n",
    "  model = nn.DataParallel(model) #todo\n",
    "  \n",
    "  \n",
    "model.to(device)\n",
    "criterion = nn.MSELoss()\n",
    "optimizer = optim.Adam(model.parameters(), lr=LEARNING_RATE)\n",
    "\n",
    "loss_stats = {\n",
    "    'train': [],\n",
    "    \"val\": []\n",
    "}\n"
   ]
  },
  {
   "cell_type": "code",
   "execution_count": 32,
   "metadata": {},
   "outputs": [
    {
     "output_type": "stream",
     "name": "stdout",
     "text": [
      "Begin training.\n",
      "1 0.7348605468869209 0.36764997243881226\n",
      "2 0.1292031864868477 0.11940077692270279\n",
      "3 0.048861272749491036 0.04840198904275894\n",
      "4 0.020688155957031995 0.023090744391083717\n",
      "5 0.01164122112095356 0.009381109848618507\n",
      "training got  7.1  seconds\n",
      "Root Mean Squared Error : 0.1006054790591735\n",
      "R^2 : -0.5289312591538666\n"
     ]
    }
   ],
   "source": [
    "print(\"Begin training.\")\n",
    "t1=time.time()\n",
    "for e in range(1, EPOCHS+1):\n",
    "    # TRAINING\n",
    "    train_epoch_loss = 0\n",
    "    model.train()\n",
    "    for X_train_batch, y_train_batch in train_loader:\n",
    "        X_train_batch, y_train_batch = X_train_batch.to(device), y_train_batch.to(device)\n",
    "        optimizer.zero_grad()\n",
    "        y_train_pred = model(X_train_batch)\n",
    "        train_loss = criterion(y_train_pred, y_train_batch.unsqueeze(1))\n",
    "        train_loss.backward()\n",
    "        optimizer.step()\n",
    "        train_epoch_loss += train_loss.item()  \n",
    "    # VALIDATION    \n",
    "    with torch.no_grad(): \n",
    "        val_epoch_loss = 0\n",
    "        model.eval()\n",
    "        for X_val_batch, y_val_batch in val_loader:\n",
    "            X_val_batch, y_val_batch = X_val_batch.to(device), y_val_batch.to(device) \n",
    "            y_val_pred = model(X_val_batch)            \n",
    "            val_loss = criterion(y_val_pred, y_val_batch.unsqueeze(1))\n",
    "            val_epoch_loss += val_loss.item()\n",
    "    loss_stats['train'].append(train_epoch_loss/len(train_loader))\n",
    "    loss_stats['val'].append(val_epoch_loss/len(val_loader))                              \n",
    "    #print(f'Epoch {e+0:03}: | Train Loss: {train_epoch_loss/len(train_loader):.5f} | Val Loss: {val_epoch_loss/len(val_loader):.5f}')\n",
    "    print(e,train_epoch_loss/len(train_loader),val_epoch_loss/len(val_loader))\n",
    "\n",
    "t2=time.time()\n",
    "t2_t1 = \"%.1f\" % (t2-t1)\n",
    "print(\"training got \",t2_t1,\" seconds\")\n",
    "\n",
    "\n",
    "y_pred_list = []\n",
    "with torch.no_grad():\n",
    "    model.eval()\n",
    "    for X_batch, _ in train_loader:\n",
    "        X_batch = X_batch.to(device)\n",
    "        y_test_pred = model(X_batch)\n",
    "        y_pred_list.append(y_test_pred.cpu().numpy())\n",
    "\n",
    "y_pred_list = np.concatenate(y_pred_list, axis=0).flatten()\n",
    "rmse = mean_squared_error(y_train, y_pred_list)**0.5\n",
    "r_square = r2_score(y_train, y_pred_list)\n",
    "print(\"Root Mean Squared Error :\",rmse)\n",
    "print(\"R^2 :\",r_square)"
   ]
  },
  {
   "cell_type": "code",
   "execution_count": null,
   "metadata": {},
   "outputs": [],
   "source": []
  }
 ]
}